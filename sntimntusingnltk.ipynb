{
 "cells": [
  {
   "cell_type": "code",
   "execution_count": 1,
   "id": "3e340c0f-93ac-4c55-9764-bf5ac9c9295d",
   "metadata": {},
   "outputs": [],
   "source": [
    "import nltk"
   ]
  },
  {
   "cell_type": "code",
   "execution_count": 2,
   "id": "621d0bb5-4bde-4943-9c87-1f06f6196656",
   "metadata": {},
   "outputs": [],
   "source": [
    "from nltk.tokenize import word_tokenize"
   ]
  },
  {
   "cell_type": "code",
   "execution_count": 3,
   "id": "0056f634-b52d-4376-bbda-a7aab103418c",
   "metadata": {},
   "outputs": [],
   "source": [
    "text = open('read.txt',encoding='utf-8').read()\n",
    "lowercase=text.lower()\n",
    "import string\n",
    "cleantext= lowercase.translate(str.maketrans('','',string.punctuation))"
   ]
  },
  {
   "cell_type": "code",
   "execution_count": 4,
   "id": "6447b363-343f-4c55-ac81-74b04e8324a4",
   "metadata": {},
   "outputs": [],
   "source": [
    "tokenized_words=word_tokenize(cleantext,\"english\")\n",
    "#print (tokenized_words)"
   ]
  },
  {
   "cell_type": "code",
   "execution_count": 5,
   "id": "fae48eed-d4c1-4851-8dbe-64aa7061d9de",
   "metadata": {},
   "outputs": [],
   "source": [
    "final_words=[]\n",
    "emotions_list=[]\n",
    "from nltk.corpus import stopwords\n",
    "from collections import Counter\n"
   ]
  },
  {
   "cell_type": "code",
   "execution_count": 6,
   "id": "e27ee232-fbda-4946-bb70-55ced03c1aa0",
   "metadata": {},
   "outputs": [],
   "source": [
    "for word in tokenized_words:\n",
    "    if word not in stopwords.words(\"english\"):\n",
    "        final_words.append(word)"
   ]
  },
  {
   "cell_type": "code",
   "execution_count": 7,
   "id": "2dfb4403-f9b5-4289-9d5d-9e19e801a1aa",
   "metadata": {},
   "outputs": [],
   "source": [
    "#print(final_words)"
   ]
  },
  {
   "cell_type": "code",
   "execution_count": 8,
   "id": "1d0cc57f-08f4-47d3-8fe9-7fb055c8924a",
   "metadata": {},
   "outputs": [
    {
     "name": "stdout",
     "output_type": "stream",
     "text": [
      "Counter({' adequate': 1, ' independent': 1, ' sad': 1})\n"
     ]
    }
   ],
   "source": [
    "with open('emotions.txt','r') as file:\n",
    "    for line in file:\n",
    "        clear_line=line.replace('\\n','').replace(',','').replace(\"'\",'').strip()\n",
    "        word,emotion=clear_line.split(':')\n",
    "       # print(\"Word:\" + word + \" \" +\"Emotions:\" + emotion)\n",
    "\n",
    "        if word in final_words:\n",
    "            emotions_list.append(emotion)\n",
    "\n",
    "#print(emotions_list)\n",
    "w=Counter(emotions_list)\n",
    "print(w)"
   ]
  },
  {
   "cell_type": "code",
   "execution_count": 10,
   "id": "a92b5dc7-58a3-4a9f-acb8-3937156c8c86",
   "metadata": {},
   "outputs": [],
   "source": [
    "from nltk.sentiment.vader import SentimentIntensityAnalyzer"
   ]
  },
  {
   "cell_type": "code",
   "execution_count": 11,
   "id": "969da63e-2c5e-4ac4-a908-5c4a5cbbf2d7",
   "metadata": {},
   "outputs": [],
   "source": [
    "def sentimen_analyzer(sentiment_text):\n",
    "    score=SentimentIntensityAnalyzer().polarity_scores(sentiment_text)\n",
    "    print(score)\n",
    "    neg=score['neg']\n",
    "    pos=score['pos']\n",
    "    if neg>pos:\n",
    "        print(\"negative sentiment\")\n",
    "    elif pos>neg:\n",
    "        print(\"postive sentiment\")\n",
    "    else:\n",
    "        print(\"Neutral statement\")\n",
    "        "
   ]
  },
  {
   "cell_type": "code",
   "execution_count": 12,
   "id": "e1fae6b2-8bb7-4be1-b634-6aa8e0fbf15f",
   "metadata": {},
   "outputs": [
    {
     "name": "stdout",
     "output_type": "stream",
     "text": [
      "{'neg': 0.056, 'neu': 0.884, 'pos': 0.06, 'compound': 0.5535}\n",
      "postive sentiment\n"
     ]
    }
   ],
   "source": [
    "sentimen_analyzer(cleantext)"
   ]
  },
  {
   "cell_type": "code",
   "execution_count": null,
   "id": "8411e865-b3a8-436e-a2ef-6bc8add801af",
   "metadata": {},
   "outputs": [],
   "source": []
  }
 ],
 "metadata": {
  "kernelspec": {
   "display_name": "Python 3 (ipykernel)",
   "language": "python",
   "name": "python3"
  },
  "language_info": {
   "codemirror_mode": {
    "name": "ipython",
    "version": 3
   },
   "file_extension": ".py",
   "mimetype": "text/x-python",
   "name": "python",
   "nbconvert_exporter": "python",
   "pygments_lexer": "ipython3",
   "version": "3.12.4"
  }
 },
 "nbformat": 4,
 "nbformat_minor": 5
}
